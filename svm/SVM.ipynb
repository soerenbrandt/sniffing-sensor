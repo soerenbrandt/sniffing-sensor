{
 "cells": [
  {
   "cell_type": "markdown",
   "metadata": {},
   "source": [
    "## Data import\n",
    "\n",
    "Here, we are generating the phase derivative from experimental data to use for classification and regression models."
   ]
  },
  {
   "cell_type": "code",
   "execution_count": 1,
   "id": "195d5645",
   "metadata": {},
   "outputs": [],
   "source": [
    "import sys\n",
    "sys.path.insert(0, '/Users/Soren/Documents/GitHub/sniffing-sensor')\n",
    "\n",
    "seed = 42"
   ]
  },
  {
   "cell_type": "code",
   "execution_count": 2,
   "metadata": {},
   "outputs": [],
   "source": [
    "from data.datasets import *\n",
    "from data.data_functions import DataLoader, DerivTransform, NormalizeTransform"
   ]
  },
  {
   "cell_type": "code",
   "execution_count": 3,
   "metadata": {},
   "outputs": [
    {
     "name": "stdout",
     "output_type": "stream",
     "text": [
      "Loading experimental data\n",
      "Pentane (1/11): [===================0] 100% complete\n",
      "Hexane (2/11): [===================0] 100% complete\n",
      "Heptane (3/11): [===================0] 100% complete\n",
      "Octane (4/11): [===================0] 100% complete\n",
      "Nonane (5/11): [===================0] 100% complete\n",
      "Decane (6/11): [===================0] 100% complete\n",
      "Ethanol (7/11): [===================0] 100% complete\n",
      "Water (8/11): [===================0] 100% complete\n",
      "Acetone (9/11): [===================0] 100% complete\n",
      "Toluene (10/11): [===================0] 100% complete\n",
      "Acetonitrile (11/11): [===================0] 100% complete\n",
      "Length of experimental set loaded: 76\n"
     ]
    }
   ],
   "source": [
    "exp_derivs, labels = DataLoader(PureCompoundsInTallCuvettes(), transforms=[DerivTransform, NormalizeTransform]).load()"
   ]
  },
  {
   "cell_type": "markdown",
   "metadata": {},
   "source": [
    "## Dataset split (train-test)\n",
    "\n",
    "Perform a stratified train-test split based on the class labels"
   ]
  },
  {
   "cell_type": "code",
   "execution_count": 4,
   "metadata": {},
   "outputs": [],
   "source": [
    "from sklearn.model_selection import train_test_split"
   ]
  },
  {
   "cell_type": "code",
   "execution_count": 5,
   "metadata": {},
   "outputs": [],
   "source": [
    "X_train, X_test, y_train, y_test = train_test_split(list(labels.keys()), list(labels.values()), test_size=0.2, shuffle=True, random_state=seed, stratify=list(labels.values()))"
   ]
  },
  {
   "cell_type": "markdown",
   "metadata": {},
   "source": [
    "## Model training"
   ]
  },
  {
   "cell_type": "code",
   "execution_count": 6,
   "metadata": {},
   "outputs": [],
   "source": [
    "import numpy as np\n",
    "import pandas as pd\n",
    "from sklearn.svm import SVC\n",
    "from sklearn.ensemble import VotingClassifier\n",
    "from sklearn.model_selection import cross_validate, GridSearchCV"
   ]
  },
  {
   "cell_type": "markdown",
   "metadata": {},
   "source": [
    "### Gridsearch"
   ]
  },
  {
   "cell_type": "code",
   "execution_count": 7,
   "metadata": {},
   "outputs": [],
   "source": [
    "svm = SVC()"
   ]
  },
  {
   "cell_type": "markdown",
   "metadata": {},
   "source": [
    "##### Coarse grid search"
   ]
  },
  {
   "cell_type": "code",
   "execution_count": 8,
   "metadata": {},
   "outputs": [
    {
     "name": "stderr",
     "output_type": "stream",
     "text": [
      "/Applications/anaconda3/envs/torch/lib/python3.8/site-packages/sklearn/model_selection/_split.py:666: UserWarning: The least populated class in y has only 2 members, which is less than n_splits=5.\n",
      "  warnings.warn((\"The least populated class in y has only %d\"\n"
     ]
    }
   ],
   "source": [
    "param_grid = {'C': [pow(10,n) for n in range(-8, 9, 2)], 'kernel': ['linear']}\n",
    "\n",
    "grid_search = GridSearchCV(svm, param_grid, scoring='accuracy', cv=5, return_train_score=True)\n",
    "hpo_coarse_results = grid_search.fit([exp_derivs[exp] for exp in X_train], y_train)"
   ]
  },
  {
   "cell_type": "code",
   "execution_count": 9,
   "metadata": {},
   "outputs": [
    {
     "data": {
      "text/html": [
       "<div>\n",
       "<style scoped>\n",
       "    .dataframe tbody tr th:only-of-type {\n",
       "        vertical-align: middle;\n",
       "    }\n",
       "\n",
       "    .dataframe tbody tr th {\n",
       "        vertical-align: top;\n",
       "    }\n",
       "\n",
       "    .dataframe thead th {\n",
       "        text-align: right;\n",
       "    }\n",
       "</style>\n",
       "<table border=\"1\" class=\"dataframe\">\n",
       "  <thead>\n",
       "    <tr style=\"text-align: right;\">\n",
       "      <th>param_C</th>\n",
       "      <th>1.000000e-08</th>\n",
       "      <th>1.000000e-06</th>\n",
       "      <th>1.000000e-04</th>\n",
       "      <th>1.000000e-02</th>\n",
       "      <th>1.000000e+00</th>\n",
       "      <th>1.000000e+02</th>\n",
       "      <th>1.000000e+04</th>\n",
       "      <th>1.000000e+06</th>\n",
       "      <th>1.000000e+08</th>\n",
       "    </tr>\n",
       "  </thead>\n",
       "  <tbody>\n",
       "    <tr>\n",
       "      <th>mean_test_score</th>\n",
       "      <td>0.166667</td>\n",
       "      <td>0.166667</td>\n",
       "      <td>0.166667</td>\n",
       "      <td>0.166667</td>\n",
       "      <td>0.366667</td>\n",
       "      <td>0.8000</td>\n",
       "      <td>0.833333</td>\n",
       "      <td>0.833333</td>\n",
       "      <td>0.833333</td>\n",
       "    </tr>\n",
       "    <tr>\n",
       "      <th>mean_train_score</th>\n",
       "      <td>0.183333</td>\n",
       "      <td>0.183333</td>\n",
       "      <td>0.183333</td>\n",
       "      <td>0.183333</td>\n",
       "      <td>0.391667</td>\n",
       "      <td>0.9625</td>\n",
       "      <td>1.000000</td>\n",
       "      <td>1.000000</td>\n",
       "      <td>1.000000</td>\n",
       "    </tr>\n",
       "  </tbody>\n",
       "</table>\n",
       "</div>"
      ],
      "text/plain": [
       "param_C           1.000000e-08  1.000000e-06  1.000000e-04  1.000000e-02  \\\n",
       "mean_test_score       0.166667      0.166667      0.166667      0.166667   \n",
       "mean_train_score      0.183333      0.183333      0.183333      0.183333   \n",
       "\n",
       "param_C           1.000000e+00  1.000000e+02  1.000000e+04  1.000000e+06  \\\n",
       "mean_test_score       0.366667        0.8000      0.833333      0.833333   \n",
       "mean_train_score      0.391667        0.9625      1.000000      1.000000   \n",
       "\n",
       "param_C           1.000000e+08  \n",
       "mean_test_score       0.833333  \n",
       "mean_train_score      1.000000  "
      ]
     },
     "execution_count": 9,
     "metadata": {},
     "output_type": "execute_result"
    }
   ],
   "source": [
    "pd.DataFrame(hpo_coarse_results.cv_results_)[['param_C', 'mean_train_score', 'mean_test_score']].pivot_table(columns=['param_C'])"
   ]
  },
  {
   "cell_type": "markdown",
   "metadata": {},
   "source": [
    "##### Fine grid search"
   ]
  },
  {
   "cell_type": "code",
   "execution_count": 10,
   "metadata": {},
   "outputs": [
    {
     "name": "stderr",
     "output_type": "stream",
     "text": [
      "/Applications/anaconda3/envs/torch/lib/python3.8/site-packages/sklearn/model_selection/_split.py:666: UserWarning: The least populated class in y has only 2 members, which is less than n_splits=5.\n",
      "  warnings.warn((\"The least populated class in y has only %d\"\n"
     ]
    }
   ],
   "source": [
    "param_grid = {'C': [pow(10,n) for n in np.linspace(1,4,11)], 'kernel': ['linear']}\n",
    "\n",
    "grid_search = GridSearchCV(svm, param_grid, scoring='accuracy', cv=5, return_train_score=True)\n",
    "hpo_coarse_results = grid_search.fit([exp_derivs[exp] for exp in X_train], y_train)"
   ]
  },
  {
   "cell_type": "code",
   "execution_count": 11,
   "metadata": {},
   "outputs": [
    {
     "data": {
      "text/html": [
       "<div>\n",
       "<style scoped>\n",
       "    .dataframe tbody tr th:only-of-type {\n",
       "        vertical-align: middle;\n",
       "    }\n",
       "\n",
       "    .dataframe tbody tr th {\n",
       "        vertical-align: top;\n",
       "    }\n",
       "\n",
       "    .dataframe thead th {\n",
       "        text-align: right;\n",
       "    }\n",
       "</style>\n",
       "<table border=\"1\" class=\"dataframe\">\n",
       "  <thead>\n",
       "    <tr style=\"text-align: right;\">\n",
       "      <th>param_C</th>\n",
       "      <th>10.000000</th>\n",
       "      <th>19.952623</th>\n",
       "      <th>39.810717</th>\n",
       "      <th>79.432823</th>\n",
       "      <th>158.489319</th>\n",
       "      <th>316.227766</th>\n",
       "      <th>630.957344</th>\n",
       "      <th>1258.925412</th>\n",
       "      <th>2511.886432</th>\n",
       "      <th>5011.872336</th>\n",
       "      <th>10000.000000</th>\n",
       "    </tr>\n",
       "  </thead>\n",
       "  <tbody>\n",
       "    <tr>\n",
       "      <th>mean_test_score</th>\n",
       "      <td>0.716667</td>\n",
       "      <td>0.733333</td>\n",
       "      <td>0.783333</td>\n",
       "      <td>0.8000</td>\n",
       "      <td>0.816667</td>\n",
       "      <td>0.833333</td>\n",
       "      <td>0.833333</td>\n",
       "      <td>0.833333</td>\n",
       "      <td>0.833333</td>\n",
       "      <td>0.833333</td>\n",
       "      <td>0.833333</td>\n",
       "    </tr>\n",
       "    <tr>\n",
       "      <th>mean_train_score</th>\n",
       "      <td>0.770833</td>\n",
       "      <td>0.862500</td>\n",
       "      <td>0.941667</td>\n",
       "      <td>0.9625</td>\n",
       "      <td>0.975000</td>\n",
       "      <td>0.987500</td>\n",
       "      <td>1.000000</td>\n",
       "      <td>1.000000</td>\n",
       "      <td>1.000000</td>\n",
       "      <td>1.000000</td>\n",
       "      <td>1.000000</td>\n",
       "    </tr>\n",
       "  </tbody>\n",
       "</table>\n",
       "</div>"
      ],
      "text/plain": [
       "param_C           10.000000     19.952623     39.810717     79.432823     \\\n",
       "mean_test_score       0.716667      0.733333      0.783333        0.8000   \n",
       "mean_train_score      0.770833      0.862500      0.941667        0.9625   \n",
       "\n",
       "param_C           158.489319    316.227766    630.957344    1258.925412   \\\n",
       "mean_test_score       0.816667      0.833333      0.833333      0.833333   \n",
       "mean_train_score      0.975000      0.987500      1.000000      1.000000   \n",
       "\n",
       "param_C           2511.886432   5011.872336   10000.000000  \n",
       "mean_test_score       0.833333      0.833333      0.833333  \n",
       "mean_train_score      1.000000      1.000000      1.000000  "
      ]
     },
     "execution_count": 11,
     "metadata": {},
     "output_type": "execute_result"
    }
   ],
   "source": [
    "pd.DataFrame(hpo_coarse_results.cv_results_)[['param_C', 'mean_train_score', 'mean_test_score']].pivot_table(columns=['param_C'])"
   ]
  },
  {
   "cell_type": "markdown",
   "metadata": {},
   "source": [
    "### Cross-validation/dev"
   ]
  },
  {
   "cell_type": "code",
   "execution_count": 12,
   "metadata": {},
   "outputs": [],
   "source": [
    "svm = SVC(C=300, kernel='linear')"
   ]
  },
  {
   "cell_type": "code",
   "execution_count": 13,
   "metadata": {},
   "outputs": [
    {
     "name": "stderr",
     "output_type": "stream",
     "text": [
      "/Applications/anaconda3/envs/torch/lib/python3.8/site-packages/sklearn/model_selection/_split.py:666: UserWarning: The least populated class in y has only 2 members, which is less than n_splits=5.\n",
      "  warnings.warn((\"The least populated class in y has only %d\"\n"
     ]
    },
    {
     "data": {
      "text/plain": [
       "{'fit_time': array([0.00323319, 0.00210094, 0.00122499, 0.00207782, 0.001863  ]),\n",
       " 'score_time': array([0.00174594, 0.00044227, 0.00041509, 0.000453  , 0.0004549 ]),\n",
       " 'test_score': array([0.66666667, 0.91666667, 0.83333333, 0.91666667, 0.75      ]),\n",
       " 'train_score': array([1.        , 0.97916667, 0.97916667, 0.97916667, 1.        ])}"
      ]
     },
     "execution_count": 13,
     "metadata": {},
     "output_type": "execute_result"
    }
   ],
   "source": [
    "cv_results = cross_validate(svm, [exp_derivs[exp] for exp in X_train], y_train, scoring='accuracy', cv=5, return_train_score=True, return_estimator=True)\n",
    "{key:cv_results[key] for key in cv_results if key != 'estimator'}"
   ]
  },
  {
   "cell_type": "code",
   "execution_count": 14,
   "metadata": {},
   "outputs": [],
   "source": [
    "class Ens:\n",
    "    def __init__(self, estimators):\n",
    "        self.estimators = estimators\n",
    "        self._estimator_type = 'classifier'\n",
    "        \n",
    "    def predict(self, X):\n",
    "        final = []\n",
    "        for x in X:\n",
    "            predictions = []\n",
    "            for est in self.estimators:\n",
    "                predictions.append(est.predict([x])[0])\n",
    "            final.append(max(set(predictions), key=predictions.count))\n",
    "        return np.array(final)"
   ]
  },
  {
   "cell_type": "code",
   "execution_count": 15,
   "metadata": {},
   "outputs": [],
   "source": [
    "single = svm.fit([exp_derivs[exp] for exp in X_train], y_train)\n",
    "ensemble = Ens(cv_results['estimator'])"
   ]
  },
  {
   "cell_type": "code",
   "execution_count": 16,
   "metadata": {},
   "outputs": [],
   "source": [
    "single = svm.fit([exp_derivs[exp] for exp in X_train], y_train)\n",
    "ensemble = Ens(cv_results['estimator'])"
   ]
  },
  {
   "cell_type": "markdown",
   "metadata": {},
   "source": [
    "### Metrics"
   ]
  },
  {
   "cell_type": "code",
   "execution_count": 17,
   "metadata": {},
   "outputs": [],
   "source": [
    "from matplotlib import pyplot as plt\n",
    "from sklearn.metrics import plot_confusion_matrix"
   ]
  },
  {
   "cell_type": "code",
   "execution_count": 18,
   "metadata": {},
   "outputs": [
    {
     "name": "stdout",
     "output_type": "stream",
     "text": [
      "0.8125\n"
     ]
    },
    {
     "data": {
      "text/plain": [
       "<sklearn.metrics._plot.confusion_matrix.ConfusionMatrixDisplay at 0x7fb6740f26d0>"
      ]
     },
     "execution_count": 18,
     "metadata": {},
     "output_type": "execute_result"
    },
    {
     "data": {
      "image/png": "[encoded data removed]",
      "text/plain": [
       "<Figure size 720x288 with 4 Axes>"
      ]
     },
     "metadata": {
      "needs_background": "light"
     },
     "output_type": "display_data"
    }
   ],
   "source": [
    "_, ax = plt.subplots(1,2, figsize=(10,4))\n",
    "\n",
    "print(single.score([exp_derivs[exp] for exp in X_test], y_test))\n",
    "\n",
    "plot_confusion_matrix(single, [exp_derivs[exp] for exp in X_test], y_test, ax=ax[0])\n",
    "plot_confusion_matrix(ensemble, [exp_derivs[exp] for exp in X_test], y_test, ax=ax[1])"
   ]
  },
  {
   "cell_type": "code",
   "execution_count": null,
   "metadata": {},
   "outputs": [],
   "source": []
  }
 ],
 "metadata": {
  "kernelspec": {
   "display_name": "Python 3",
   "language": "python",
   "name": "python3"
  },
  "language_info": {
   "codemirror_mode": {
    "name": "ipython",
    "version": 3
   },
   "file_extension": ".py",
   "mimetype": "text/x-python",
   "name": "python",
   "nbconvert_exporter": "python",
   "pygments_lexer": "ipython3",
   "version": "3.8.10"
  }
 },
 "nbformat": 4,
 "nbformat_minor": 5
}
